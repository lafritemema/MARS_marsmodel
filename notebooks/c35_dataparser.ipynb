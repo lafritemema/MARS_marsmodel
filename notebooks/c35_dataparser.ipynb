{
 "cells": [
  {
   "cell_type": "code",
   "execution_count": 4,
   "metadata": {},
   "outputs": [],
   "source": [
    "import pandas as pd\n",
    "import pprint\n",
    "import numpy as np\n",
    "from neo4j import GraphDatabase, Record\n",
    "from typing import List, Dict, Tuple\n",
    "from enum import Enum\n",
    "pd.set_option('mode.chained_assignment',None)\n",
    "import numbers\n",
    "import os\n",
    "sys.path.append('..')\n",
    "\n",
    "# import pygraphml\n",
    "# import neo4j"
   ]
  },
  {
   "cell_type": "markdown",
   "metadata": {},
   "source": [
    "### PART DATAFRAME"
   ]
  },
  {
   "cell_type": "code",
   "execution_count": 5,
   "metadata": {},
   "outputs": [],
   "source": [
    "part_df_origin = pd.read_csv(\"./data/rail_splicing_part.csv\")"
   ]
  },
  {
   "cell_type": "code",
   "execution_count": 6,
   "metadata": {},
   "outputs": [
    {
     "data": {
      "text/html": [
       "<div>\n",
       "<style scoped>\n",
       "    .dataframe tbody tr th:only-of-type {\n",
       "        vertical-align: middle;\n",
       "    }\n",
       "\n",
       "    .dataframe tbody tr th {\n",
       "        vertical-align: top;\n",
       "    }\n",
       "\n",
       "    .dataframe thead th {\n",
       "        text-align: right;\n",
       "    }\n",
       "</style>\n",
       "<table border=\"1\" class=\"dataframe\">\n",
       "  <thead>\n",
       "    <tr style=\"text-align: right;\">\n",
       "      <th></th>\n",
       "      <th>rail</th>\n",
       "      <th>element_code</th>\n",
       "      <th>path</th>\n",
       "      <th>reference</th>\n",
       "      <th>parent</th>\n",
       "    </tr>\n",
       "  </thead>\n",
       "  <tbody>\n",
       "    <tr>\n",
       "      <th>0</th>\n",
       "      <td>1</td>\n",
       "      <td>rar</td>\n",
       "      <td>REPLACE_A1A2371A145D46AA97BA586C90C4A444\\E5321...</td>\n",
       "      <td>E53214734200</td>\n",
       "      <td>NaN</td>\n",
       "    </tr>\n",
       "    <tr>\n",
       "      <th>1</th>\n",
       "      <td>1</td>\n",
       "      <td>rav</td>\n",
       "      <td>REPLACE_E1819591053E4490B57BFF413D41AB65\\E5323...</td>\n",
       "      <td>E53233044200</td>\n",
       "      <td>NaN</td>\n",
       "    </tr>\n",
       "    <tr>\n",
       "      <th>2</th>\n",
       "      <td>1</td>\n",
       "      <td>eg</td>\n",
       "      <td>REPLACE_2A6C27350E3E476CA75538AFF81952DB\\E5322...</td>\n",
       "      <td>E53225041200</td>\n",
       "      <td>NaN</td>\n",
       "    </tr>\n",
       "    <tr>\n",
       "      <th>3</th>\n",
       "      <td>1</td>\n",
       "      <td>ed</td>\n",
       "      <td>REPLACE_2A6C27350E3E476CA75538AFF81952DB\\E5322...</td>\n",
       "      <td>E53225041201</td>\n",
       "      <td>NaN</td>\n",
       "    </tr>\n",
       "    <tr>\n",
       "      <th>4</th>\n",
       "      <td>1</td>\n",
       "      <td>eq</td>\n",
       "      <td>REPLACE_A9447BE4E2BB4C12BA20BFDFB2A0820B\\E5321...</td>\n",
       "      <td>E53214090200</td>\n",
       "      <td>E53214773000</td>\n",
       "    </tr>\n",
       "  </tbody>\n",
       "</table>\n",
       "</div>"
      ],
      "text/plain": [
       "   rail element_code                                               path  \\\n",
       "0     1          rar  REPLACE_A1A2371A145D46AA97BA586C90C4A444\\E5321...   \n",
       "1     1          rav  REPLACE_E1819591053E4490B57BFF413D41AB65\\E5323...   \n",
       "2     1           eg  REPLACE_2A6C27350E3E476CA75538AFF81952DB\\E5322...   \n",
       "3     1           ed  REPLACE_2A6C27350E3E476CA75538AFF81952DB\\E5322...   \n",
       "4     1           eq  REPLACE_A9447BE4E2BB4C12BA20BFDFB2A0820B\\E5321...   \n",
       "\n",
       "      reference        parent  \n",
       "0  E53214734200           NaN  \n",
       "1  E53233044200           NaN  \n",
       "2  E53225041200           NaN  \n",
       "3  E53225041201           NaN  \n",
       "4  E53214090200  E53214773000  "
      ]
     },
     "execution_count": 6,
     "metadata": {},
     "output_type": "execute_result"
    }
   ],
   "source": [
    "part_df_origin.head()"
   ]
  },
  {
   "cell_type": "code",
   "execution_count": 7,
   "metadata": {},
   "outputs": [],
   "source": [
    "def get_element_name(code:str, el_type:str):\n",
    "    if el_type == \"instance\":\n",
    "        element_corr = {\"rar\": \"front rail\", \"rav\":\"rear rail\", \"eg\":\"left splice\", \"ed\":\"right splice\", \"eq\":\"square\", \"tr\":\"crossbeam\"}\n",
    "    elif el_type == \"part\" :\n",
    "        element_corr = {\"rar\": \"rail\", \"rav\":\"rail\", \"eg\":\"splice\", \"ed\":\"splice\", \"eq\":\"square\", \"tr\":\"crossbeam\"}\n",
    "    else:\n",
    "        raise Exception(\"element type error\")\n",
    "    return element_corr[code]\n",
    "\n",
    "def get_rail_by_id(id:int):\n",
    "    rail_y = {1:\"Y+1292\", 2:\"Y+763\", 3:\"Y+254\", 4:\"Y-254\", 5:\"Y-763\", 6:\"Y-1292\"}\n",
    "    return rail_y[id]"
   ]
  },
  {
   "cell_type": "markdown",
   "metadata": {},
   "source": [
    "#### PART CLASS DATAFRAME"
   ]
  },
  {
   "cell_type": "code",
   "execution_count": 8,
   "metadata": {},
   "outputs": [],
   "source": [
    "part_class_df = part_df_origin[['element_code', 'reference']].drop_duplicates('reference')\n",
    "part_class_df['ename'] = part_class_df.element_code.apply(get_element_name, el_type='part')\n",
    "del part_class_df['element_code']"
   ]
  },
  {
   "cell_type": "code",
   "execution_count": 9,
   "metadata": {},
   "outputs": [
    {
     "data": {
      "text/html": [
       "<div>\n",
       "<style scoped>\n",
       "    .dataframe tbody tr th:only-of-type {\n",
       "        vertical-align: middle;\n",
       "    }\n",
       "\n",
       "    .dataframe tbody tr th {\n",
       "        vertical-align: top;\n",
       "    }\n",
       "\n",
       "    .dataframe thead th {\n",
       "        text-align: right;\n",
       "    }\n",
       "</style>\n",
       "<table border=\"1\" class=\"dataframe\">\n",
       "  <thead>\n",
       "    <tr style=\"text-align: right;\">\n",
       "      <th></th>\n",
       "      <th>reference</th>\n",
       "      <th>ename</th>\n",
       "    </tr>\n",
       "  </thead>\n",
       "  <tbody>\n",
       "    <tr>\n",
       "      <th>0</th>\n",
       "      <td>E53214734200</td>\n",
       "      <td>rail</td>\n",
       "    </tr>\n",
       "    <tr>\n",
       "      <th>1</th>\n",
       "      <td>E53233044200</td>\n",
       "      <td>rail</td>\n",
       "    </tr>\n",
       "    <tr>\n",
       "      <th>2</th>\n",
       "      <td>E53225041200</td>\n",
       "      <td>splice</td>\n",
       "    </tr>\n",
       "    <tr>\n",
       "      <th>3</th>\n",
       "      <td>E53225041201</td>\n",
       "      <td>splice</td>\n",
       "    </tr>\n",
       "    <tr>\n",
       "      <th>4</th>\n",
       "      <td>E53214090200</td>\n",
       "      <td>square</td>\n",
       "    </tr>\n",
       "  </tbody>\n",
       "</table>\n",
       "</div>"
      ],
      "text/plain": [
       "      reference   ename\n",
       "0  E53214734200    rail\n",
       "1  E53233044200    rail\n",
       "2  E53225041200  splice\n",
       "3  E53225041201  splice\n",
       "4  E53214090200  square"
      ]
     },
     "execution_count": 9,
     "metadata": {},
     "output_type": "execute_result"
    }
   ],
   "source": [
    "part_class_df.head()"
   ]
  },
  {
   "cell_type": "markdown",
   "metadata": {},
   "source": [
    "#### PART INSTANCE DATAFRAME"
   ]
  },
  {
   "cell_type": "code",
   "execution_count": 10,
   "metadata": {},
   "outputs": [],
   "source": [
    "# je recupere les instances\n",
    "part_instance_df = part_df_origin[['element_code', 'rail', 'reference']]\n",
    "part_instance_df.rail = part_instance_df.rail.apply(get_rail_by_id)\n",
    "part_instance_df['ename'] = part_instance_df.element_code.apply(get_element_name, el_type='instance')\n",
    "del part_instance_df['element_code']\n",
    "part_instance_df = part_instance_df.groupby(['ename', 'rail']).first()"
   ]
  },
  {
   "cell_type": "code",
   "execution_count": 11,
   "metadata": {},
   "outputs": [],
   "source": [
    "# je dois extraire les data crossbeam (une seule crossbeam pour tous les rails)\n",
    "# je recupere la ref\n",
    "crossbeam_ref = part_instance_df.loc['crossbeam'].iloc[0].reference\n",
    "# j'extrait les data crossbeam\n",
    "part_instance_df.drop('crossbeam', inplace=True)"
   ]
  },
  {
   "cell_type": "code",
   "execution_count": 12,
   "metadata": {},
   "outputs": [],
   "source": [
    "# et je cree une ligne unique avec seulement la crossbeam\n",
    "part_instance_df.loc[('crossbeam', 'C35'), 'reference'] = crossbeam_ref"
   ]
  },
  {
   "cell_type": "code",
   "execution_count": 13,
   "metadata": {},
   "outputs": [
    {
     "data": {
      "text/html": [
       "<div>\n",
       "<style scoped>\n",
       "    .dataframe tbody tr th:only-of-type {\n",
       "        vertical-align: middle;\n",
       "    }\n",
       "\n",
       "    .dataframe tbody tr th {\n",
       "        vertical-align: top;\n",
       "    }\n",
       "\n",
       "    .dataframe thead th {\n",
       "        text-align: right;\n",
       "    }\n",
       "</style>\n",
       "<table border=\"1\" class=\"dataframe\">\n",
       "  <thead>\n",
       "    <tr style=\"text-align: right;\">\n",
       "      <th></th>\n",
       "      <th></th>\n",
       "      <th>reference</th>\n",
       "    </tr>\n",
       "    <tr>\n",
       "      <th>ename</th>\n",
       "      <th>rail</th>\n",
       "      <th></th>\n",
       "    </tr>\n",
       "  </thead>\n",
       "  <tbody>\n",
       "    <tr>\n",
       "      <th rowspan=\"4\" valign=\"top\">square</th>\n",
       "      <th>Y+763</th>\n",
       "      <td>E53215521200</td>\n",
       "    </tr>\n",
       "    <tr>\n",
       "      <th>Y-1292</th>\n",
       "      <td>E53214090200</td>\n",
       "    </tr>\n",
       "    <tr>\n",
       "      <th>Y-254</th>\n",
       "      <td>E53215522200</td>\n",
       "    </tr>\n",
       "    <tr>\n",
       "      <th>Y-763</th>\n",
       "      <td>E53215521201</td>\n",
       "    </tr>\n",
       "    <tr>\n",
       "      <th>crossbeam</th>\n",
       "      <th>C35</th>\n",
       "      <td>E53214476200</td>\n",
       "    </tr>\n",
       "  </tbody>\n",
       "</table>\n",
       "</div>"
      ],
      "text/plain": [
       "                     reference\n",
       "ename     rail                \n",
       "square    Y+763   E53215521200\n",
       "          Y-1292  E53214090200\n",
       "          Y-254   E53215522200\n",
       "          Y-763   E53215521201\n",
       "crossbeam C35     E53214476200"
      ]
     },
     "execution_count": 13,
     "metadata": {},
     "output_type": "execute_result"
    }
   ],
   "source": [
    "part_instance_df.tail()"
   ]
  },
  {
   "cell_type": "code",
   "execution_count": 18,
   "metadata": {},
   "outputs": [
    {
     "data": {
      "text/html": [
       "<div>\n",
       "<style scoped>\n",
       "    .dataframe tbody tr th:only-of-type {\n",
       "        vertical-align: middle;\n",
       "    }\n",
       "\n",
       "    .dataframe tbody tr th {\n",
       "        vertical-align: top;\n",
       "    }\n",
       "\n",
       "    .dataframe thead th {\n",
       "        text-align: right;\n",
       "    }\n",
       "</style>\n",
       "<table border=\"1\" class=\"dataframe\">\n",
       "  <thead>\n",
       "    <tr style=\"text-align: right;\">\n",
       "      <th></th>\n",
       "      <th>reference</th>\n",
       "      <th>reference</th>\n",
       "    </tr>\n",
       "    <tr>\n",
       "      <th>rail</th>\n",
       "      <th></th>\n",
       "      <th></th>\n",
       "    </tr>\n",
       "  </thead>\n",
       "  <tbody>\n",
       "    <tr>\n",
       "      <th>Y+1292</th>\n",
       "      <td>E53214734200</td>\n",
       "      <td>E53233044200</td>\n",
       "    </tr>\n",
       "    <tr>\n",
       "      <th>Y+254</th>\n",
       "      <td>E53215529200</td>\n",
       "      <td>E53233024200</td>\n",
       "    </tr>\n",
       "    <tr>\n",
       "      <th>Y+763</th>\n",
       "      <td>E53215518200</td>\n",
       "      <td>E53233046200</td>\n",
       "    </tr>\n",
       "    <tr>\n",
       "      <th>Y-1292</th>\n",
       "      <td>E53214735200</td>\n",
       "      <td>E53233043200</td>\n",
       "    </tr>\n",
       "    <tr>\n",
       "      <th>Y-254</th>\n",
       "      <td>E53215529201</td>\n",
       "      <td>E53233025200</td>\n",
       "    </tr>\n",
       "    <tr>\n",
       "      <th>Y-763</th>\n",
       "      <td>E53215518202</td>\n",
       "      <td>E53233045200</td>\n",
       "    </tr>\n",
       "  </tbody>\n",
       "</table>\n",
       "</div>"
      ],
      "text/plain": [
       "           reference     reference\n",
       "rail                              \n",
       "Y+1292  E53214734200  E53233044200\n",
       "Y+254   E53215529200  E53233024200\n",
       "Y+763   E53215518200  E53233046200\n",
       "Y-1292  E53214735200  E53233043200\n",
       "Y-254   E53215529201  E53233025200\n",
       "Y-763   E53215518202  E53233045200"
      ]
     },
     "execution_count": 18,
     "metadata": {},
     "output_type": "execute_result"
    }
   ],
   "source": [
    "pd.concat([part_instance_df.loc['front rail'], part_instance_df.loc['rear rail']], axis=1)"
   ]
  },
  {
   "cell_type": "markdown",
   "metadata": {},
   "source": [
    "### FASTENER SOURCE DATAFRAME "
   ]
  },
  {
   "cell_type": "code",
   "execution_count": 12,
   "metadata": {},
   "outputs": [],
   "source": [
    "fastener_df = pd.read_json(\"./data/C35_Fasteners_data.json\", orient='records')"
   ]
  },
  {
   "cell_type": "code",
   "execution_count": 13,
   "metadata": {},
   "outputs": [],
   "source": [
    "fastener_df.columns = ['xe', 'ye', 'ze', 'xdir', 'ydir', 'zdir', 'fastener_type',\n",
    "       'fastener_diameter', 'geometrical_length', 'hole_depth',\n",
    "       'head_orientation', 'sealant_thickness', 'sealant_standard',\n",
    "       'temporary_fastener_diameter', 'assembling_condition',\n",
    "       'local_tolerance', 'head_type', 'parts_to_tight',\n",
    "       'parts_material_stack', 'parts_thickness_stack',\n",
    "       'references_item_stack', 'bom_item_stack', 'countersink_angle',\n",
    "       'synchronized', 'comments', 'countersink_depth', 'id', 'head_side',\n",
    "       'fastener_concept_part', 'fastener_concept_id', 'attributes',\n",
    "       'refhfuuid', 'lockuuid', 'remind_note', 'aname', 'parent_name']"
   ]
  },
  {
   "cell_type": "code",
   "execution_count": 14,
   "metadata": {},
   "outputs": [],
   "source": [
    "# Cast xdir, ydir et zdir en int pour supprimer les valeur avec exp-16\n",
    "fastener_df.xdir = pd.to_numeric(fastener_df.xdir, downcast='integer')\n",
    "fastener_df.ydir = pd.to_numeric(fastener_df.ydir, downcast='integer')\n",
    "fastener_df.zdir = pd.to_numeric(fastener_df.zdir, downcast='integer')\n",
    "\n",
    "# ajout de 15367 en X pour se caler sur la reference avion\n",
    "fastener_df.xe = fastener_df.xe + 15367"
   ]
  },
  {
   "cell_type": "code",
   "execution_count": 15,
   "metadata": {},
   "outputs": [],
   "source": [
    "def getRailPosition(yValue: float) -> str :\n",
    "    position:str\n",
    "    rail:str\n",
    "    v:float\n",
    "\n",
    "      # get the side (inverted in catia)\n",
    "    if yValue > 0 : \n",
    "        position = 'RIGHT'\n",
    "        v = yValue\n",
    "    else:\n",
    "        position = 'LEFT'\n",
    "        v = yValue*-1\n",
    "\n",
    "    if v < 1760 and v > 1710 :\n",
    "        rail = \"1732\"\n",
    "    elif v < 1310 and v > 1260 :\n",
    "        rail = \"1292\"\n",
    "    elif v < 790 and v > 740 :\n",
    "        rail = \"763\"\n",
    "    elif v < 280 and v > 230 :\n",
    "        rail = \"254\"\n",
    "\n",
    "    return 'Y{signe}{position}'.format(signe='+' if yValue < 0 else '-', position=rail)"
   ]
  },
  {
   "cell_type": "code",
   "execution_count": 16,
   "metadata": {},
   "outputs": [],
   "source": [
    "# get the rail position\n",
    "fastener_df['rail_position'] = fastener_df.ye.apply(getRailPosition)\n",
    "\n",
    "# extract the reference\n",
    "fastener_df['reference'] = fastener_df.aname.str.extract(r'^([^\\.]*)')\n",
    "\n",
    "# replace fastener types\n",
    "fastener_df.loc[fastener_df.reference.str.match(r'^en6115'), 'fastener_type'] = \"Hi-Lite\"\n",
    "fastener_df.loc[fastener_df.reference.str.match(r'^asna2392'), 'fastener_type'] = \"Lockbolt\"\n",
    "fastener_df.loc[fastener_df.parts_to_tight.notna(), \"parts_to_tight\"] = fastener_df.parts_to_tight.str.split(';')\n",
    "fastener_df.loc[fastener_df.parts_material_stack.notna(),\"parts_material_stack\"] = fastener_df.parts_material_stack.str.split(';')\n",
    "fastener_df.loc[fastener_df.parts_thickness_stack.notna(),\"parts_thickness_stack\"] = fastener_df.parts_thickness_stack.str.replace('mm', \"\").str.split(';')\n",
    "fastener_df.loc[fastener_df.references_item_stack.notna(),\"references_item_stack\"] = fastener_df.references_item_stack.str.split(';')\n",
    "\n",
    "fastener_df.xe = fastener_df.xe.round(3)\n",
    "fastener_df.ye = fastener_df.ye.round(3)\n",
    "fastener_df.ze = fastener_df.ze.round(3)"
   ]
  },
  {
   "cell_type": "code",
   "execution_count": 17,
   "metadata": {},
   "outputs": [
    {
     "data": {
      "text/plain": [
       "0      0\n",
       "38     1\n",
       "134   -1\n",
       "Name: ydir, dtype: int8"
      ]
     },
     "execution_count": 17,
     "metadata": {},
     "output_type": "execute_result"
    }
   ],
   "source": [
    "fastener_df.ydir.drop_duplicates()"
   ]
  },
  {
   "cell_type": "code",
   "execution_count": 18,
   "metadata": {},
   "outputs": [
    {
     "data": {
      "text/plain": [
       "{'xe': 15444.666,\n",
       " 'ye': 1747.0,\n",
       " 'ze': -505.0,\n",
       " 'xdir': 0,\n",
       " 'ydir': 0,\n",
       " 'zdir': -1,\n",
       " 'fastener_type': 'Rivet',\n",
       " 'fastener_diameter': 4.8,\n",
       " 'geometrical_length': 5.600001976074,\n",
       " 'hole_depth': 6.000001976074,\n",
       " 'head_orientation': 0,\n",
       " 'sealant_thickness': 0.2,\n",
       " 'sealant_standard': nan,\n",
       " 'temporary_fastener_diameter': 0,\n",
       " 'assembling_condition': 'None',\n",
       " 'local_tolerance': 'A205',\n",
       " 'head_type': 'COUNTERSUNK HEAD On countersunk part',\n",
       " 'parts_to_tight': ['REPLACE_80D083C7CC724AD7A70E23A2F3D72DA2',\n",
       "  'REPLACE_1EDF4A6A74004583A3242E47A709B634',\n",
       "  'E53225039201.1'],\n",
       " 'parts_material_stack': ['7010/7050-T7451_(AIMS03-02-022)(ABS5323)',\n",
       "  '2024-T3_(AIMS03-04-011)(ASNA3012)',\n",
       "  '?'],\n",
       " 'parts_thickness_stack': ['1.8', '1.8', '2'],\n",
       " 'references_item_stack': ['asna2049DXJ048'],\n",
       " 'bom_item_stack': nan,\n",
       " 'countersink_angle': 99.9999999998563,\n",
       " 'synchronized': 'True',\n",
       " 'comments': nan,\n",
       " 'countersink_depth': 0,\n",
       " 'id': 19720191353712,\n",
       " 'head_side': 'NotStated',\n",
       " 'fastener_concept_part': nan,\n",
       " 'fastener_concept_id': 0,\n",
       " 'attributes': nan,\n",
       " 'refhfuuid': nan,\n",
       " 'lockuuid': nan,\n",
       " 'remind_note': nan,\n",
       " 'aname': 'asna2049DXJ048.1',\n",
       " 'parent_name': 'Diameter_0.190_(3/16\")_|_4.8mm',\n",
       " 'rail_position': 'Y-1732',\n",
       " 'reference': 'asna2049DXJ048'}"
      ]
     },
     "execution_count": 18,
     "metadata": {},
     "output_type": "execute_result"
    }
   ],
   "source": [
    "fastener_df.iloc[0].to_dict()"
   ]
  },
  {
   "cell_type": "markdown",
   "metadata": {},
   "source": [
    "### MARS DATAFRAME "
   ]
  },
  {
   "cell_type": "markdown",
   "metadata": {},
   "source": [
    "#### EXTRACT INFO FROM FASTENER SOURCE DATAFRAME"
   ]
  },
  {
   "cell_type": "code",
   "execution_count": 19,
   "metadata": {},
   "outputs": [],
   "source": [
    "col_to_keep = ['xe', 'ye', 'ze', 'xdir', 'ydir', 'zdir',\n",
    "               'parts_to_tight','parts_thickness_stack',\n",
    "               'id','aname','rail_position', 'reference',\n",
    "              'parts_material_stack']\n",
    "\n",
    "# j'extrait les fastener dedié au mars (+1292 à -1292)\n",
    "mars_df = fastener_df[col_to_keep][(fastener_df.rail_position != \"Y+1732\") & (fastener_df.rail_position != \"Y-1732\")]"
   ]
  },
  {
   "cell_type": "markdown",
   "metadata": {},
   "source": [
    "#### INSERT AREA INFORMATIONS"
   ]
  },
  {
   "cell_type": "code",
   "execution_count": 20,
   "metadata": {},
   "outputs": [],
   "source": [
    "# ajout de la crossbeam side rear ou front\n",
    "mars_df[\"crossbeam_side\"] = mars_df.xe.apply(lambda xe : \"rear\" if xe > 15367 else \"front\")\n",
    "# ajout de la area web ou flange\n",
    "mars_df['area'] = mars_df.zdir.apply(lambda zdir: \"web\" if zdir != -1 else \"flange\")\n",
    "\n",
    "# ajout du rail side left ou right\n",
    "rail_pos = [254, 1292, 763]\n",
    "for p in rail_pos:\n",
    "    mars_df.loc[(mars_df.rail_position== 'Y+%d'%(p)) & (mars_df.zdir !=0) & (mars_df.ye *-1 > p), \"rail_side\"] = \"left\"\n",
    "    mars_df.loc[(mars_df.rail_position== 'Y-%d'%(p)) & (mars_df.zdir !=0) & (mars_df.ye < p), \"rail_side\"] = \"left\"\n",
    "\n",
    "mars_df.loc[(mars_df.zdir !=0)&(mars_df.rail_side.isna()), \"rail_side\"] = \"right\""
   ]
  },
  {
   "cell_type": "markdown",
   "metadata": {},
   "source": [
    "#### INSERT ELEMENT STACK INFORMATIONS"
   ]
  },
  {
   "cell_type": "code",
   "execution_count": 21,
   "metadata": {},
   "outputs": [],
   "source": [
    "# fonction pour recuperer le stack des element en fonction de la zone du fastener\n",
    "def get_element_stack(row:pd.Series) -> str:\n",
    "    \n",
    "    ptt = {\n",
    "           \"frontweb\":[\"left splice\", \"front rail\", \"right splice\"],\n",
    "           \"rearweb\":[\"left splice\", \"rear rail\", \"right splice\"],\n",
    "           \"frontflangeleftinsideexternal\": [\"left splice\", \"front rail\"],\n",
    "           \"frontflangeleftinsideinternal\": [\"left splice\", \"front rail\", \"square\"],\n",
    "           \"frontflangeleftoutsideexternal\": [\"left splice\", \"front rail\"],\n",
    "           \"frontflangeleftoutsideinternal\": [\"left splice\", \"square\"],\n",
    "           \"frontflangerightinsideexternal\": [\"right splice\", \"front rail\"],\n",
    "           \"frontflangerightinsideinternal\": [\"right splice\", \"front rail\", \"square\"],\n",
    "           \"frontflangerightoutsideexternal\": [\"right splice\", \"front rail\"],\n",
    "           \"frontflangerightoutsideinternal\": [\"right splice\", \"square\"],\n",
    "           \"rearflangeleftinsideexternal\": [\"left splice\", \"rear rail\"],\n",
    "           \"rearflangeleftinsideinternal\": [\"left splice\", \"rear rail\", \"crossbeam\"],\n",
    "           \"rearflangeleftoutsideexternal\": [\"left splice\", \"rear rail\"],\n",
    "           \"rearflangeleftoutsideinternal\": [\"left splice\", \"rear rail\", \"crossbeam\"],\n",
    "           \"rearflangerightinsideexternal\": [\"right splice\", \"rear rail\"],\n",
    "           \"rearflangerightinsideinternal\": [\"right splice\", \"rear rail\", \"crossbeam\"],\n",
    "           \"rearflangerightoutsideexternal\": [\"right splice\", \"rear rail\"],\n",
    "           \"rearflangerightoutsideinternal\": [\"right splice\", \"rear rail\", \"crossbeam\"]\n",
    "          }\n",
    "    \n",
    "    cside = row.crossbeam_side\n",
    "    area = row.area\n",
    "    rside = \"\"\n",
    "    rpos = \"\"\n",
    "    xpos = \"\"\n",
    "    \n",
    "    if area == \"flange\" :\n",
    "        rside = row.rail_side\n",
    "        rpos = \"inside\" if row.rail_position.find('254') !=-1 else \"outside\"\n",
    "        xpos = \"internal\" if (row.xe > 15320 and row.xe < 15398) else \"external\"\n",
    "    \n",
    "    pattern = \"{cside}{area}{rside}{rpos}{xpos}\".format(cside=cside, area=area, rside=rside, rpos=rpos, xpos=xpos)\n",
    "    \n",
    "    return ','.join(ptt[pattern])\n",
    "\n",
    "#ajout du stack des elements avec la fonction\n",
    "mars_df['el_to_tight'] = mars_df[['crossbeam_side', 'area', 'rail_position', 'xe', 'rail_side']].apply(get_element_stack, axis=1)\n",
    "mars_df['el_to_tight'] = mars_df['el_to_tight'].str.split(',')"
   ]
  },
  {
   "cell_type": "code",
   "execution_count": 22,
   "metadata": {},
   "outputs": [],
   "source": [
    "# fonction pour remplacer les el_to_tight par les refrence en fonction de la zone\n",
    "# je vais chercher les ref dans part_df\n",
    "def replace_reference(row:pd.Series):\n",
    "    ref_tab = []\n",
    "    el_stack = row.el_to_tight\n",
    "    \n",
    "    for el in el_stack:\n",
    "        yref = row.rail_position if not el == 'crossbeam' else \"C35\"\n",
    "        ref_tab.append(part_instance_df.loc[(el, yref),'reference'])\n",
    "    \n",
    "    return ref_tab\n",
    "\n",
    "# remplacement element par reference et creation ref_to_tight\n",
    "mars_df['ref_to_tight'] = mars_df[['el_to_tight', 'rail_position']].apply(replace_reference, axis=1)"
   ]
  },
  {
   "cell_type": "code",
   "execution_count": 23,
   "metadata": {},
   "outputs": [
    {
     "data": {
      "text/plain": [
       "{'xe': 15475.0,\n",
       " 'ye': 242.975,\n",
       " 'ze': -551.6,\n",
       " 'xdir': 0,\n",
       " 'ydir': 0,\n",
       " 'zdir': -1,\n",
       " 'parts_to_tight': ['E53225034200.2',\n",
       "  'REPLACE_E4B1DB35975442AF8C4CA22C0F2C2943'],\n",
       " 'parts_thickness_stack': ['1.6', '1.8'],\n",
       " 'id': 227201910577297,\n",
       " 'aname': 'asna2392-3-03.15',\n",
       " 'rail_position': 'Y-254',\n",
       " 'reference': 'asna2392-3-03',\n",
       " 'parts_material_stack': ['?', 'Aluminium'],\n",
       " 'crossbeam_side': 'rear',\n",
       " 'area': 'flange',\n",
       " 'rail_side': 'left',\n",
       " 'el_to_tight': ['left splice', 'rear rail'],\n",
       " 'ref_to_tight': ['E53225034200', 'E53233025200']}"
      ]
     },
     "execution_count": 23,
     "metadata": {},
     "output_type": "execute_result"
    }
   ],
   "source": [
    "mars_df.iloc[0].to_dict()"
   ]
  },
  {
   "cell_type": "markdown",
   "metadata": {},
   "source": [
    "#### INSERT TEMPORARY FASTENING INFORMATION"
   ]
  },
  {
   "cell_type": "markdown",
   "metadata": {},
   "source": [
    "Integration de l'information temporary fastening pour les assembly qui sont utilisés pour maintenir les part en place "
   ]
  },
  {
   "cell_type": "code",
   "execution_count": 24,
   "metadata": {},
   "outputs": [],
   "source": [
    "# import de la liste des temporary fastening coté gauche\n",
    "tmp_drilling_df = pd.read_csv(\"./data/rail_splicing_tmp_drill.csv\")"
   ]
  },
  {
   "cell_type": "code",
   "execution_count": 25,
   "metadata": {},
   "outputs": [],
   "source": [
    "# je vais chercher dans mars_df les information de position des tmp fastening ci dessus\n",
    "floc_df =  mars_df[['rail_position', 'aname', 'xe', 'ye', 'ze']][mars_df.aname.isin(tmp_drilling_df.assy.array)]"
   ]
  },
  {
   "cell_type": "code",
   "execution_count": 26,
   "metadata": {},
   "outputs": [],
   "source": [
    "# je defini une serie les coordonne (x,z) des tmp fastening coté gauche - ils sont identique coté droit\n",
    "coord = floc_df[['xe', 'ze']].apply(tuple, axis=1).drop_duplicates().array"
   ]
  },
  {
   "cell_type": "code",
   "execution_count": 27,
   "metadata": {},
   "outputs": [],
   "source": [
    "# je defini une colonne temporary_fastening dans mars_df avec la valeur true pour ceux avec les (x,z) obetenu ci dessus\n",
    "mars_df.loc[fastener_df[['xe', 'ze']].apply(tuple, axis=1).isin(coord), 'temporary_fastening'] = True\n",
    "# je met tous les autres de la colonne à false\n",
    "mars_df.temporary_fastening[mars_df.temporary_fastening !=True] = False"
   ]
  },
  {
   "cell_type": "code",
   "execution_count": 28,
   "metadata": {},
   "outputs": [
    {
     "data": {
      "text/plain": [
       "{'xe': 15475.0,\n",
       " 'ye': 242.975,\n",
       " 'ze': -551.6,\n",
       " 'xdir': 0,\n",
       " 'ydir': 0,\n",
       " 'zdir': -1,\n",
       " 'parts_to_tight': ['E53225034200.2',\n",
       "  'REPLACE_E4B1DB35975442AF8C4CA22C0F2C2943'],\n",
       " 'parts_thickness_stack': ['1.6', '1.8'],\n",
       " 'id': 227201910577297,\n",
       " 'aname': 'asna2392-3-03.15',\n",
       " 'rail_position': 'Y-254',\n",
       " 'reference': 'asna2392-3-03',\n",
       " 'parts_material_stack': ['?', 'Aluminium'],\n",
       " 'crossbeam_side': 'rear',\n",
       " 'area': 'flange',\n",
       " 'rail_side': 'left',\n",
       " 'el_to_tight': ['left splice', 'rear rail'],\n",
       " 'ref_to_tight': ['E53225034200', 'E53233025200'],\n",
       " 'temporary_fastening': True}"
      ]
     },
     "execution_count": 28,
     "metadata": {},
     "output_type": "execute_result"
    }
   ],
   "source": [
    "mars_df.iloc[0].to_dict()"
   ]
  },
  {
   "cell_type": "markdown",
   "metadata": {},
   "source": [
    "#### INSERT TEMPORARY DRILLING INFORMATION"
   ]
  },
  {
   "cell_type": "markdown",
   "metadata": {},
   "source": [
    "Les temporary drilling sont pratiquement identique au temporary fastening, j'extrait juste les assembly de la crossbeam car ils sont déjà prépercé"
   ]
  },
  {
   "cell_type": "code",
   "execution_count": 29,
   "metadata": {},
   "outputs": [],
   "source": [
    "# je recupere les index des fastener crossbeam\n",
    "# je cree un dataframe qui est une transposition de la liste des element fasten par les assy decris dans mars_df\n",
    "temp_part_df = pd.DataFrame(mars_df.el_to_tight.array, index=mars_df.index)\n",
    "# j'identifie les ligne contenant la crossbeam en index 2, je recupere les index\n",
    "crossbeam_index = temp_part_df[temp_part_df[2] == \"crossbeam\"].index"
   ]
  },
  {
   "cell_type": "code",
   "execution_count": 30,
   "metadata": {},
   "outputs": [],
   "source": [
    "# je cree une colonne temporary_drilling dans mars_df = a temporary_fastening \n",
    "mars_df[\"temporary_drilling\"] = mars_df.temporary_fastening.copy()\n",
    "# je met les ligne decrivant les assy de la crossbeam a false\n",
    "mars_df.loc[crossbeam_index, \"temporary_drilling\"]=False"
   ]
  },
  {
   "cell_type": "code",
   "execution_count": 31,
   "metadata": {},
   "outputs": [
    {
     "data": {
      "text/plain": [
       "{'xe': 15475.0,\n",
       " 'ye': 242.975,\n",
       " 'ze': -551.6,\n",
       " 'xdir': 0,\n",
       " 'ydir': 0,\n",
       " 'zdir': -1,\n",
       " 'parts_to_tight': ['E53225034200.2',\n",
       "  'REPLACE_E4B1DB35975442AF8C4CA22C0F2C2943'],\n",
       " 'parts_thickness_stack': ['1.6', '1.8'],\n",
       " 'id': 227201910577297,\n",
       " 'aname': 'asna2392-3-03.15',\n",
       " 'rail_position': 'Y-254',\n",
       " 'reference': 'asna2392-3-03',\n",
       " 'parts_material_stack': ['?', 'Aluminium'],\n",
       " 'crossbeam_side': 'rear',\n",
       " 'area': 'flange',\n",
       " 'rail_side': 'left',\n",
       " 'el_to_tight': ['left splice', 'rear rail'],\n",
       " 'ref_to_tight': ['E53225034200', 'E53233025200'],\n",
       " 'temporary_fastening': True,\n",
       " 'temporary_drilling': True}"
      ]
     },
     "execution_count": 31,
     "metadata": {},
     "output_type": "execute_result"
    }
   ],
   "source": [
    "mars_df.iloc[0].to_dict()"
   ]
  },
  {
   "cell_type": "markdown",
   "metadata": {},
   "source": [
    "### FASTENER PART DATAFRAME"
   ]
  },
  {
   "cell_type": "markdown",
   "metadata": {},
   "source": [
    "#### FASTENER CLASS DATAFRAME"
   ]
  },
  {
   "cell_type": "code",
   "execution_count": 32,
   "metadata": {},
   "outputs": [],
   "source": [
    "fastener_class_df = pd.concat([mars_df.reference.drop_duplicates(), fastener_df[['fastener_type','fastener_diameter']]], axis=1, join=\"inner\")"
   ]
  },
  {
   "cell_type": "code",
   "execution_count": 33,
   "metadata": {},
   "outputs": [
    {
     "data": {
      "text/html": [
       "<div>\n",
       "<style scoped>\n",
       "    .dataframe tbody tr th:only-of-type {\n",
       "        vertical-align: middle;\n",
       "    }\n",
       "\n",
       "    .dataframe tbody tr th {\n",
       "        vertical-align: top;\n",
       "    }\n",
       "\n",
       "    .dataframe thead th {\n",
       "        text-align: right;\n",
       "    }\n",
       "</style>\n",
       "<table border=\"1\" class=\"dataframe\">\n",
       "  <thead>\n",
       "    <tr style=\"text-align: right;\">\n",
       "      <th></th>\n",
       "      <th>reference</th>\n",
       "      <th>fastener_type</th>\n",
       "      <th>fastener_diameter</th>\n",
       "    </tr>\n",
       "  </thead>\n",
       "  <tbody>\n",
       "    <tr>\n",
       "      <th>14</th>\n",
       "      <td>asna2392-3-03</td>\n",
       "      <td>Lockbolt</td>\n",
       "      <td>4.8</td>\n",
       "    </tr>\n",
       "    <tr>\n",
       "      <th>38</th>\n",
       "      <td>asna2392-3-04</td>\n",
       "      <td>Lockbolt</td>\n",
       "      <td>4.8</td>\n",
       "    </tr>\n",
       "    <tr>\n",
       "      <th>238</th>\n",
       "      <td>asna2392-3-05</td>\n",
       "      <td>Lockbolt</td>\n",
       "      <td>4.8</td>\n",
       "    </tr>\n",
       "    <tr>\n",
       "      <th>266</th>\n",
       "      <td>asna2392-3-07</td>\n",
       "      <td>Lockbolt</td>\n",
       "      <td>4.8</td>\n",
       "    </tr>\n",
       "    <tr>\n",
       "      <th>282</th>\n",
       "      <td>en6115V3-4</td>\n",
       "      <td>Hi-Lite</td>\n",
       "      <td>4.8</td>\n",
       "    </tr>\n",
       "    <tr>\n",
       "      <th>298</th>\n",
       "      <td>en6115V3-5</td>\n",
       "      <td>Hi-Lite</td>\n",
       "      <td>4.8</td>\n",
       "    </tr>\n",
       "    <tr>\n",
       "      <th>306</th>\n",
       "      <td>en6115V3-7</td>\n",
       "      <td>Hi-Lite</td>\n",
       "      <td>4.8</td>\n",
       "    </tr>\n",
       "  </tbody>\n",
       "</table>\n",
       "</div>"
      ],
      "text/plain": [
       "         reference fastener_type  fastener_diameter\n",
       "14   asna2392-3-03      Lockbolt                4.8\n",
       "38   asna2392-3-04      Lockbolt                4.8\n",
       "238  asna2392-3-05      Lockbolt                4.8\n",
       "266  asna2392-3-07      Lockbolt                4.8\n",
       "282     en6115V3-4       Hi-Lite                4.8\n",
       "298     en6115V3-5       Hi-Lite                4.8\n",
       "306     en6115V3-7       Hi-Lite                4.8"
      ]
     },
     "execution_count": 33,
     "metadata": {},
     "output_type": "execute_result"
    }
   ],
   "source": [
    "fastener_class_df"
   ]
  },
  {
   "cell_type": "markdown",
   "metadata": {},
   "source": [
    "#### FASTENER INSTANCE DATAFRAME"
   ]
  },
  {
   "cell_type": "code",
   "execution_count": 34,
   "metadata": {},
   "outputs": [],
   "source": [
    "fastener_instance_df = mars_df[['id','reference', 'aname']]"
   ]
  },
  {
   "cell_type": "code",
   "execution_count": 35,
   "metadata": {},
   "outputs": [
    {
     "data": {
      "text/html": [
       "<div>\n",
       "<style scoped>\n",
       "    .dataframe tbody tr th:only-of-type {\n",
       "        vertical-align: middle;\n",
       "    }\n",
       "\n",
       "    .dataframe tbody tr th {\n",
       "        vertical-align: top;\n",
       "    }\n",
       "\n",
       "    .dataframe thead th {\n",
       "        text-align: right;\n",
       "    }\n",
       "</style>\n",
       "<table border=\"1\" class=\"dataframe\">\n",
       "  <thead>\n",
       "    <tr style=\"text-align: right;\">\n",
       "      <th></th>\n",
       "      <th>id</th>\n",
       "      <th>reference</th>\n",
       "      <th>aname</th>\n",
       "    </tr>\n",
       "  </thead>\n",
       "  <tbody>\n",
       "    <tr>\n",
       "      <th>14</th>\n",
       "      <td>227201910577297</td>\n",
       "      <td>asna2392-3-03</td>\n",
       "      <td>asna2392-3-03.15</td>\n",
       "    </tr>\n",
       "    <tr>\n",
       "      <th>15</th>\n",
       "      <td>227201910577298</td>\n",
       "      <td>asna2392-3-03</td>\n",
       "      <td>asna2392-3-03.16</td>\n",
       "    </tr>\n",
       "    <tr>\n",
       "      <th>16</th>\n",
       "      <td>227201910577299</td>\n",
       "      <td>asna2392-3-03</td>\n",
       "      <td>asna2392-3-03.17</td>\n",
       "    </tr>\n",
       "    <tr>\n",
       "      <th>17</th>\n",
       "      <td>2272019105749300</td>\n",
       "      <td>asna2392-3-03</td>\n",
       "      <td>asna2392-3-03.18</td>\n",
       "    </tr>\n",
       "    <tr>\n",
       "      <th>18</th>\n",
       "      <td>2272019105749301</td>\n",
       "      <td>asna2392-3-03</td>\n",
       "      <td>asna2392-3-03.19</td>\n",
       "    </tr>\n",
       "  </tbody>\n",
       "</table>\n",
       "</div>"
      ],
      "text/plain": [
       "                  id      reference             aname\n",
       "14   227201910577297  asna2392-3-03  asna2392-3-03.15\n",
       "15   227201910577298  asna2392-3-03  asna2392-3-03.16\n",
       "16   227201910577299  asna2392-3-03  asna2392-3-03.17\n",
       "17  2272019105749300  asna2392-3-03  asna2392-3-03.18\n",
       "18  2272019105749301  asna2392-3-03  asna2392-3-03.19"
      ]
     },
     "execution_count": 35,
     "metadata": {},
     "output_type": "execute_result"
    }
   ],
   "source": [
    "fastener_instance_df.head()"
   ]
  },
  {
   "cell_type": "markdown",
   "metadata": {},
   "source": [
    "### IMPORT CLASSES TO CREATE NODES"
   ]
  },
  {
   "cell_type": "code",
   "execution_count": 141,
   "metadata": {},
   "outputs": [],
   "source": [
    "import os\n",
    "from neomodel import config\n",
    "bolt_url = os.environ['NEO4J_BOLT_URL'].replace('\"', '')\n",
    "config.DATABASE_URL = bolt_url\n",
    "\n",
    "from marsmodel.product.fastener import Instance as FastInstance, Class as FastClass, Fastener\n",
    "from marsmodel.product.part import Instance as PartInstance, Class as PartClass\n",
    "from marsmodel.process.pattern import Pattern\n",
    "from marsmodel.product.assembly import Assembly\n",
    "from marsmodel.product import Product\n",
    "from neomodel.util import Database\n",
    "from neomodel.contrib.spatial_properties import NeomodelPoint"
   ]
  },
  {
   "cell_type": "markdown",
   "metadata": {},
   "source": [
    "### CREATE ASSEMBLY/FASTENER NODES + RELATIONSHIP"
   ]
  },
  {
   "cell_type": "markdown",
   "metadata": {},
   "source": [
    "#### ASSEMBLY NODES"
   ]
  },
  {
   "cell_type": "code",
   "execution_count": 37,
   "metadata": {},
   "outputs": [],
   "source": [
    "# assembly node generation function\n",
    "def generate_assy_node(row:pd.Series) -> Assembly:\n",
    "    \n",
    "    origin = NeomodelPoint(x=row.xe, y=row.ye, z=row.ze)\n",
    "    orient = [row.xdir, row.ydir, row.zdir]\n",
    "    name = \"assy.\"+row.aname\n",
    "    uid = str(row.id)\n",
    "    \n",
    "    return Assembly(origin=origin,\n",
    "                    orient=orient,\n",
    "                    name=name,\n",
    "                    uid=uid)"
   ]
  },
  {
   "cell_type": "code",
   "execution_count": 38,
   "metadata": {},
   "outputs": [],
   "source": [
    "# generate the neomodel assembly nodes\n",
    "assy_col = [\"xe\", \"ye\", \"ze\", \"xdir\", \"ydir\", \"zdir\", \"aname\", 'id']\n",
    "assy_nodes_s = mars_df[assy_col].apply(generate_assy_node, axis=1)\n",
    "assy_nodes_s.name = \"assy_node\""
   ]
  },
  {
   "cell_type": "code",
   "execution_count": 39,
   "metadata": {},
   "outputs": [],
   "source": [
    "assy_nodes_s.index = mars_df.id"
   ]
  },
  {
   "cell_type": "markdown",
   "metadata": {},
   "source": [
    "#### FASTENER INSTANCE NODES"
   ]
  },
  {
   "cell_type": "code",
   "execution_count": 40,
   "metadata": {},
   "outputs": [],
   "source": [
    "def generate_ifastener_node(row:pd.Series) -> FastInstance:\n",
    "    name=\"fast.\"+row.aname\n",
    "    reference=row.reference\n",
    "    uid=str(row.id)\n",
    "    \n",
    "    return FastInstance(name=name, reference=reference, uid=uid)"
   ]
  },
  {
   "cell_type": "code",
   "execution_count": 41,
   "metadata": {},
   "outputs": [],
   "source": [
    "fastener_instance_nodes_s = fastener_instance_df.apply(generate_ifastener_node, axis=1)\n",
    "fastener_instance_nodes_s.name = \"fastener_instance_node\"\n",
    "fastener_instance_nodes_s.index = fastener_instance_df.id"
   ]
  },
  {
   "cell_type": "markdown",
   "metadata": {},
   "source": [
    "#### SAVE ASSY AND FASTENER INSTANCE NODES + RELATIONSHIP"
   ]
  },
  {
   "cell_type": "code",
   "execution_count": 42,
   "metadata": {},
   "outputs": [],
   "source": [
    "ifastener_assy_df = pd.concat([assy_nodes_s, fastener_instance_nodes_s], axis=1)"
   ]
  },
  {
   "cell_type": "code",
   "execution_count": 43,
   "metadata": {},
   "outputs": [],
   "source": [
    "ifastener_assy_df.index = fastener_instance_df.id"
   ]
  },
  {
   "cell_type": "code",
   "execution_count": 44,
   "metadata": {},
   "outputs": [
    {
     "data": {
      "text/html": [
       "<div>\n",
       "<style scoped>\n",
       "    .dataframe tbody tr th:only-of-type {\n",
       "        vertical-align: middle;\n",
       "    }\n",
       "\n",
       "    .dataframe tbody tr th {\n",
       "        vertical-align: top;\n",
       "    }\n",
       "\n",
       "    .dataframe thead th {\n",
       "        text-align: right;\n",
       "    }\n",
       "</style>\n",
       "<table border=\"1\" class=\"dataframe\">\n",
       "  <thead>\n",
       "    <tr style=\"text-align: right;\">\n",
       "      <th></th>\n",
       "      <th>assy_node</th>\n",
       "      <th>fastener_instance_node</th>\n",
       "    </tr>\n",
       "    <tr>\n",
       "      <th>id</th>\n",
       "      <th></th>\n",
       "      <th></th>\n",
       "    </tr>\n",
       "  </thead>\n",
       "  <tbody>\n",
       "    <tr>\n",
       "      <th>227201910577297</th>\n",
       "      <td>{'uid': '227201910577297', 'name': 'assy.asna2...</td>\n",
       "      <td>{'uid': '227201910577297', 'name': 'fast.asna2...</td>\n",
       "    </tr>\n",
       "    <tr>\n",
       "      <th>227201910577298</th>\n",
       "      <td>{'uid': '227201910577298', 'name': 'assy.asna2...</td>\n",
       "      <td>{'uid': '227201910577298', 'name': 'fast.asna2...</td>\n",
       "    </tr>\n",
       "    <tr>\n",
       "      <th>227201910577299</th>\n",
       "      <td>{'uid': '227201910577299', 'name': 'assy.asna2...</td>\n",
       "      <td>{'uid': '227201910577299', 'name': 'fast.asna2...</td>\n",
       "    </tr>\n",
       "    <tr>\n",
       "      <th>2272019105749300</th>\n",
       "      <td>{'uid': '2272019105749300', 'name': 'assy.asna...</td>\n",
       "      <td>{'uid': '2272019105749300', 'name': 'fast.asna...</td>\n",
       "    </tr>\n",
       "    <tr>\n",
       "      <th>2272019105749301</th>\n",
       "      <td>{'uid': '2272019105749301', 'name': 'assy.asna...</td>\n",
       "      <td>{'uid': '2272019105749301', 'name': 'fast.asna...</td>\n",
       "    </tr>\n",
       "  </tbody>\n",
       "</table>\n",
       "</div>"
      ],
      "text/plain": [
       "                                                          assy_node  \\\n",
       "id                                                                    \n",
       "227201910577297   {'uid': '227201910577297', 'name': 'assy.asna2...   \n",
       "227201910577298   {'uid': '227201910577298', 'name': 'assy.asna2...   \n",
       "227201910577299   {'uid': '227201910577299', 'name': 'assy.asna2...   \n",
       "2272019105749300  {'uid': '2272019105749300', 'name': 'assy.asna...   \n",
       "2272019105749301  {'uid': '2272019105749301', 'name': 'assy.asna...   \n",
       "\n",
       "                                             fastener_instance_node  \n",
       "id                                                                   \n",
       "227201910577297   {'uid': '227201910577297', 'name': 'fast.asna2...  \n",
       "227201910577298   {'uid': '227201910577298', 'name': 'fast.asna2...  \n",
       "227201910577299   {'uid': '227201910577299', 'name': 'fast.asna2...  \n",
       "2272019105749300  {'uid': '2272019105749300', 'name': 'fast.asna...  \n",
       "2272019105749301  {'uid': '2272019105749301', 'name': 'fast.asna...  "
      ]
     },
     "execution_count": 44,
     "metadata": {},
     "output_type": "execute_result"
    }
   ],
   "source": [
    "ifastener_assy_df.head()"
   ]
  },
  {
   "cell_type": "code",
   "execution_count": 45,
   "metadata": {},
   "outputs": [],
   "source": [
    "def save_assifast_nrs(row:pd.Series) -> bool:\n",
    "    assy = row.assy_node.save()\n",
    "    fast = row.fastener_instance_node.save()\n",
    "    return assy.fastener.connect(fast)"
   ]
  },
  {
   "cell_type": "code",
   "execution_count": 46,
   "metadata": {},
   "outputs": [],
   "source": [
    "relation_result = ifastener_assy_df.apply(save_assifast_nrs, axis=1)"
   ]
  },
  {
   "cell_type": "code",
   "execution_count": 47,
   "metadata": {},
   "outputs": [
    {
     "data": {
      "text/plain": [
       "{'assy_node': <Assembly: {'uid': '227201910577297', 'name': 'assy.asna2392-3-03.15', 'orient': [0, 0, -1], 'origin': <neomodel.contrib.spatial_properties.NeomodelPoint object at 0x0000028803101DA0>, 'id': 287}>,\n",
       " 'fastener_instance_node': <Instance: {'uid': '227201910577297', 'name': 'fast.asna2392-3-03.15', 'reference': 'asna2392-3-03', 'id': 288}>}"
      ]
     },
     "execution_count": 47,
     "metadata": {},
     "output_type": "execute_result"
    }
   ],
   "source": [
    "dict(ifastener_assy_df.iloc[0])"
   ]
  },
  {
   "cell_type": "markdown",
   "metadata": {},
   "source": [
    "### PART NODES"
   ]
  },
  {
   "cell_type": "markdown",
   "metadata": {},
   "source": [
    "#### PART CLASS NODE"
   ]
  },
  {
   "cell_type": "code",
   "execution_count": 48,
   "metadata": {},
   "outputs": [],
   "source": [
    "def generate_cpart_node(row:pd.Series) -> PartClass:\n",
    "    reference = row.reference\n",
    "    uid = row.reference\n",
    "    name = row.ename\n",
    "    \n",
    "    return PartClass(uid=uid, name=name, reference=reference)"
   ]
  },
  {
   "cell_type": "code",
   "execution_count": 49,
   "metadata": {},
   "outputs": [],
   "source": [
    "part_class_nodes = part_class_df.apply(generate_cpart_node, axis=1)"
   ]
  },
  {
   "cell_type": "code",
   "execution_count": 50,
   "metadata": {},
   "outputs": [],
   "source": [
    "part_class_nodes.name = \"part_class_node\""
   ]
  },
  {
   "cell_type": "code",
   "execution_count": 51,
   "metadata": {},
   "outputs": [],
   "source": [
    "part_class_df = part_class_df.join(part_class_nodes)"
   ]
  },
  {
   "cell_type": "code",
   "execution_count": 52,
   "metadata": {},
   "outputs": [],
   "source": [
    "part_class_df.index = part_class_df.reference"
   ]
  },
  {
   "cell_type": "code",
   "execution_count": 53,
   "metadata": {},
   "outputs": [],
   "source": [
    "part_class_nodes = part_class_df.part_class_node"
   ]
  },
  {
   "cell_type": "markdown",
   "metadata": {},
   "source": [
    "#### PART INSTANCE NODES"
   ]
  },
  {
   "cell_type": "code",
   "execution_count": 54,
   "metadata": {},
   "outputs": [],
   "source": [
    "def generate_ipart_node(row:pd.Series) -> PartInstance:\n",
    "    name, yrail = row.name\n",
    "    \n",
    "    if yrail.find('+') != -1 or yrail.find('-') != -1:\n",
    "        side = \"L\" if yrail[1] ==\"+\" else \"R\"\n",
    "        uid = row.reference+side+yrail[2:]\n",
    "    else:\n",
    "        uid= row.reference+yrail\n",
    "    \n",
    "    name = \"{name} {yrail}\".format(name=name, yrail=yrail)\n",
    "    reference = row.reference\n",
    "    \n",
    "    return PartInstance(uid=uid, reference=reference, name=name)"
   ]
  },
  {
   "cell_type": "code",
   "execution_count": 55,
   "metadata": {},
   "outputs": [],
   "source": [
    "part_instance_nodes = part_instance_df.apply(generate_ipart_node, axis=1)"
   ]
  },
  {
   "cell_type": "code",
   "execution_count": 56,
   "metadata": {},
   "outputs": [],
   "source": [
    "part_instance_nodes.index = part_instance_nodes.apply(lambda node : node.uid)"
   ]
  },
  {
   "cell_type": "code",
   "execution_count": 57,
   "metadata": {},
   "outputs": [
    {
     "data": {
      "text/plain": [
       "E53214734200L1292    {'uid': 'E53214734200L1292', 'name': 'front ra...\n",
       "E53215529200L254     {'uid': 'E53215529200L254', 'name': 'front rai...\n",
       "E53215518200L763     {'uid': 'E53215518200L763', 'name': 'front rai...\n",
       "dtype: object"
      ]
     },
     "execution_count": 57,
     "metadata": {},
     "output_type": "execute_result"
    }
   ],
   "source": [
    "part_instance_nodes.head(3)"
   ]
  },
  {
   "cell_type": "markdown",
   "metadata": {},
   "source": [
    "#### SAVE PART NODES + RELATIONSHIP"
   ]
  },
  {
   "cell_type": "code",
   "execution_count": 58,
   "metadata": {},
   "outputs": [],
   "source": [
    "# save part class nodes\n",
    "for part in part_class_df.part_class_node:\n",
    "    part.save()"
   ]
  },
  {
   "cell_type": "code",
   "execution_count": 59,
   "metadata": {},
   "outputs": [],
   "source": [
    "# save part instance nodes + create relationship with class nodes\n",
    "for instance in part_instance_nodes:\n",
    "    instance.save() # save instance\n",
    "    mother_class_node = part_class_nodes.loc[instance.reference] # identify class\n",
    "    instance.mother_class.connect(mother_class_node) # connect to class"
   ]
  },
  {
   "cell_type": "markdown",
   "metadata": {},
   "source": [
    "### FASTENER NODES"
   ]
  },
  {
   "cell_type": "markdown",
   "metadata": {},
   "source": [
    "#### FASTENER CLASS NODES"
   ]
  },
  {
   "cell_type": "code",
   "execution_count": 60,
   "metadata": {},
   "outputs": [],
   "source": [
    "def generate_cfastener_node(row:pd.Series) -> FastClass:\n",
    "    uid = row.reference\n",
    "    reference = row.reference\n",
    "    _type = row.fastener_type\n",
    "    diameter = row.fastener_diameter\n",
    "    name=row.fastener_type\n",
    "    \n",
    "    return FastClass(uid=uid, name=name, reference=reference, type=_type, diameter=diameter)"
   ]
  },
  {
   "cell_type": "code",
   "execution_count": 61,
   "metadata": {},
   "outputs": [],
   "source": [
    "fastener_class_nodes = fastener_class_df.apply(generate_cfastener_node, axis=1)"
   ]
  },
  {
   "cell_type": "code",
   "execution_count": 62,
   "metadata": {},
   "outputs": [],
   "source": [
    "fastener_class_nodes.index = fastener_class_df.reference"
   ]
  },
  {
   "cell_type": "code",
   "execution_count": 63,
   "metadata": {},
   "outputs": [
    {
     "data": {
      "text/plain": [
       "reference\n",
       "asna2392-3-03    {'uid': 'asna2392-3-03', 'name': 'Lockbolt', '...\n",
       "asna2392-3-04    {'uid': 'asna2392-3-04', 'name': 'Lockbolt', '...\n",
       "asna2392-3-05    {'uid': 'asna2392-3-05', 'name': 'Lockbolt', '...\n",
       "asna2392-3-07    {'uid': 'asna2392-3-07', 'name': 'Lockbolt', '...\n",
       "en6115V3-4       {'uid': 'en6115V3-4', 'name': 'Hi-Lite', 'refe...\n",
       "en6115V3-5       {'uid': 'en6115V3-5', 'name': 'Hi-Lite', 'refe...\n",
       "en6115V3-7       {'uid': 'en6115V3-7', 'name': 'Hi-Lite', 'refe...\n",
       "dtype: object"
      ]
     },
     "execution_count": 63,
     "metadata": {},
     "output_type": "execute_result"
    }
   ],
   "source": [
    "fastener_class_nodes"
   ]
  },
  {
   "cell_type": "markdown",
   "metadata": {},
   "source": [
    "#### SAVE FASTENER CLASS NODES"
   ]
  },
  {
   "cell_type": "code",
   "execution_count": 64,
   "metadata": {},
   "outputs": [],
   "source": [
    "for node in fastener_class_nodes:\n",
    "    node.save()"
   ]
  },
  {
   "cell_type": "markdown",
   "metadata": {},
   "source": [
    "#### CONNECT FASTENER INSTANCE AND CLASS NODES"
   ]
  },
  {
   "cell_type": "code",
   "execution_count": 65,
   "metadata": {},
   "outputs": [],
   "source": [
    "for instance in fastener_instance_nodes_s:\n",
    "    mother_class = fastener_class_nodes.loc[instance.reference]\n",
    "    instance.mother_class.connect(mother_class)"
   ]
  },
  {
   "cell_type": "markdown",
   "metadata": {},
   "source": [
    "### RELATIONSHIP ASSEMBLY -> PART INSTANCE"
   ]
  },
  {
   "cell_type": "markdown",
   "metadata": {},
   "source": [
    "#### DEFINE AN ASSEMBLY STACK DATAFRAME"
   ]
  },
  {
   "cell_type": "code",
   "execution_count": 66,
   "metadata": {},
   "outputs": [],
   "source": [
    "# define a function to generate the stack from mars_df dataframe\n",
    "def generate_stack(row:pd.Series):\n",
    "    stack_list = []\n",
    "    \n",
    "    thickness = row.parts_thickness_stack\n",
    "    materials = row.parts_material_stack\n",
    "    references = row.ref_to_tight\n",
    "    \n",
    "    side = \"L\" if row.rail_position[1] == \"+\" else \"R\"\n",
    "    rail = side+row.rail_position[2:]\n",
    "    \n",
    "    for index, element in enumerate(row.el_to_tight):\n",
    "        ref = references[index]+rail if element != \"crossbeam\" else references[index]+'C35'\n",
    "        stack_list.append((ref, thickness[index], materials[index]))\n",
    "    \n",
    "    return stack_list\n"
   ]
  },
  {
   "cell_type": "code",
   "execution_count": 67,
   "metadata": {},
   "outputs": [],
   "source": [
    "# define columns to keep from mars_df \n",
    "ass_partinstance_col = ['id', 'parts_thickness_stack','parts_material_stack', 'el_to_tight', 'ref_to_tight', 'rail_position']\n",
    "# create a serie describing the stacks\n",
    "ass_stack_s = mars_df[ass_partinstance_col].apply(generate_stack, axis=1)"
   ]
  },
  {
   "cell_type": "code",
   "execution_count": 68,
   "metadata": {},
   "outputs": [
    {
     "data": {
      "text/plain": [
       "14    [(E53225034200R254, 1.6, ?), (E53233025200R254...\n",
       "15    [(E53225034200R254, 1.6, ?), (E53233025200R254...\n",
       "16    [(E53225034200R254, 1.6, ?), (E53233025200R254...\n",
       "dtype: object"
      ]
     },
     "execution_count": 68,
     "metadata": {},
     "output_type": "execute_result"
    }
   ],
   "source": [
    "# visualise the result\n",
    "ass_stack_s.head(3)"
   ]
  },
  {
   "cell_type": "code",
   "execution_count": 69,
   "metadata": {},
   "outputs": [],
   "source": [
    "# create a dataframe containing stacks from serie with a columns for each item in list\n",
    "ass_stack_df= pd.DataFrame(ass_stack_s.array, index=ass_stack_s.index)\n",
    "# rename the columns => stack+index\n",
    "ass_stack_df.columns = [\"stack\"+str(c) for c in ass_stack_df.columns]\n",
    "# join with mars_df.id to get the assembly id\n",
    "ass_stack_df = ass_stack_df.join(mars_df.id)"
   ]
  },
  {
   "cell_type": "code",
   "execution_count": 70,
   "metadata": {},
   "outputs": [
    {
     "data": {
      "text/html": [
       "<div>\n",
       "<style scoped>\n",
       "    .dataframe tbody tr th:only-of-type {\n",
       "        vertical-align: middle;\n",
       "    }\n",
       "\n",
       "    .dataframe tbody tr th {\n",
       "        vertical-align: top;\n",
       "    }\n",
       "\n",
       "    .dataframe thead th {\n",
       "        text-align: right;\n",
       "    }\n",
       "</style>\n",
       "<table border=\"1\" class=\"dataframe\">\n",
       "  <thead>\n",
       "    <tr style=\"text-align: right;\">\n",
       "      <th></th>\n",
       "      <th>stack0</th>\n",
       "      <th>stack1</th>\n",
       "      <th>stack2</th>\n",
       "      <th>id</th>\n",
       "    </tr>\n",
       "  </thead>\n",
       "  <tbody>\n",
       "    <tr>\n",
       "      <th>14</th>\n",
       "      <td>(E53225034200R254, 1.6, ?)</td>\n",
       "      <td>(E53233025200R254, 1.8, Aluminium)</td>\n",
       "      <td>None</td>\n",
       "      <td>227201910577297</td>\n",
       "    </tr>\n",
       "    <tr>\n",
       "      <th>15</th>\n",
       "      <td>(E53225034200R254, 1.6, ?)</td>\n",
       "      <td>(E53233025200R254, 1.8, Aluminium)</td>\n",
       "      <td>None</td>\n",
       "      <td>227201910577298</td>\n",
       "    </tr>\n",
       "    <tr>\n",
       "      <th>16</th>\n",
       "      <td>(E53225034200R254, 1.6, ?)</td>\n",
       "      <td>(E53233025200R254, 1.8, Aluminium)</td>\n",
       "      <td>None</td>\n",
       "      <td>227201910577299</td>\n",
       "    </tr>\n",
       "  </tbody>\n",
       "</table>\n",
       "</div>"
      ],
      "text/plain": [
       "                        stack0                              stack1 stack2  \\\n",
       "14  (E53225034200R254, 1.6, ?)  (E53233025200R254, 1.8, Aluminium)   None   \n",
       "15  (E53225034200R254, 1.6, ?)  (E53233025200R254, 1.8, Aluminium)   None   \n",
       "16  (E53225034200R254, 1.6, ?)  (E53233025200R254, 1.8, Aluminium)   None   \n",
       "\n",
       "                 id  \n",
       "14  227201910577297  \n",
       "15  227201910577298  \n",
       "16  227201910577299  "
      ]
     },
     "execution_count": 70,
     "metadata": {},
     "output_type": "execute_result"
    }
   ],
   "source": [
    "ass_stack_df.head(3)"
   ]
  },
  {
   "cell_type": "code",
   "execution_count": 71,
   "metadata": {},
   "outputs": [],
   "source": [
    "#wide the dataframe to get a line for each stack\n",
    "ass_stack_wide = pd.wide_to_long(ass_stack_df, stubnames=\"stack\", i='id', j='index')\n",
    "# drop the row where no stack2\n",
    "ass_stack_wide.dropna(axis=0, subset=['stack'], inplace=True)"
   ]
  },
  {
   "cell_type": "code",
   "execution_count": 72,
   "metadata": {},
   "outputs": [
    {
     "data": {
      "text/html": [
       "<div>\n",
       "<style scoped>\n",
       "    .dataframe tbody tr th:only-of-type {\n",
       "        vertical-align: middle;\n",
       "    }\n",
       "\n",
       "    .dataframe tbody tr th {\n",
       "        vertical-align: top;\n",
       "    }\n",
       "\n",
       "    .dataframe thead th {\n",
       "        text-align: right;\n",
       "    }\n",
       "</style>\n",
       "<table border=\"1\" class=\"dataframe\">\n",
       "  <thead>\n",
       "    <tr style=\"text-align: right;\">\n",
       "      <th></th>\n",
       "      <th></th>\n",
       "      <th>stack</th>\n",
       "    </tr>\n",
       "    <tr>\n",
       "      <th>id</th>\n",
       "      <th>index</th>\n",
       "      <th></th>\n",
       "    </tr>\n",
       "  </thead>\n",
       "  <tbody>\n",
       "    <tr>\n",
       "      <th>227201910577297</th>\n",
       "      <th>0</th>\n",
       "      <td>(E53225034200R254, 1.6, ?)</td>\n",
       "    </tr>\n",
       "    <tr>\n",
       "      <th>227201910577298</th>\n",
       "      <th>0</th>\n",
       "      <td>(E53225034200R254, 1.6, ?)</td>\n",
       "    </tr>\n",
       "    <tr>\n",
       "      <th>227201910577299</th>\n",
       "      <th>0</th>\n",
       "      <td>(E53225034200R254, 1.6, ?)</td>\n",
       "    </tr>\n",
       "    <tr>\n",
       "      <th>2272019105749300</th>\n",
       "      <th>0</th>\n",
       "      <td>(E53225034201R254, 1.6, ?)</td>\n",
       "    </tr>\n",
       "    <tr>\n",
       "      <th>2272019105749301</th>\n",
       "      <th>0</th>\n",
       "      <td>(E53225034201R254, 1.6, ?)</td>\n",
       "    </tr>\n",
       "  </tbody>\n",
       "</table>\n",
       "</div>"
      ],
      "text/plain": [
       "                                             stack\n",
       "id               index                            \n",
       "227201910577297  0      (E53225034200R254, 1.6, ?)\n",
       "227201910577298  0      (E53225034200R254, 1.6, ?)\n",
       "227201910577299  0      (E53225034200R254, 1.6, ?)\n",
       "2272019105749300 0      (E53225034201R254, 1.6, ?)\n",
       "2272019105749301 0      (E53225034201R254, 1.6, ?)"
      ]
     },
     "execution_count": 72,
     "metadata": {},
     "output_type": "execute_result"
    }
   ],
   "source": [
    "ass_stack_wide.head()"
   ]
  },
  {
   "cell_type": "markdown",
   "metadata": {},
   "source": [
    "#### DEFINE THE RELATIONSHIP ASSEMBLY -> PART"
   ]
  },
  {
   "cell_type": "code",
   "execution_count": 73,
   "metadata": {},
   "outputs": [],
   "source": [
    "# code to connect assembly nodes to part instances\n",
    "# iterate in the list of stacks created below\n",
    "for stack_id, stack in ass_stack_wide.iterrows():\n",
    "    \n",
    "    assy_id, index = stack_id\n",
    "    stack_def = stack.stack\n",
    "    \n",
    "    # define the properties of relation\n",
    "    rel_properties = dict(stackMaterial=stack_def[2],\n",
    "                          stackThickness=float(stack_def[1]),\n",
    "                          stackIndex=index)\n",
    "    \n",
    "    # select the assembly node\n",
    "    assy = assy_nodes_s.loc[assy_id]\n",
    "    # select the part instance node\n",
    "    ipart = part_instance_nodes.loc[stack_def[0]]\n",
    "    \n",
    "    # create the connection between assy and part instance\n",
    "    assy.assemble.connect(ipart, rel_properties)\n",
    "    "
   ]
  },
  {
   "cell_type": "markdown",
   "metadata": {},
   "source": [
    "### CREATE PATTERN NODE + RELATIONSHIP"
   ]
  },
  {
   "cell_type": "code",
   "execution_count": 142,
   "metadata": {},
   "outputs": [],
   "source": [
    "# create and save web pattern\n",
    "web = Pattern(uid='web', name='web').save()"
   ]
  },
  {
   "cell_type": "code",
   "execution_count": 168,
   "metadata": {},
   "outputs": [],
   "source": [
    "# connect all web assembly to web pattern\n",
    "for node in assy_nodes_s[assy_nodes_s.apply(lambda node: node.orient[1]!=0)]:\n",
    "    node.pattern.connect(web)"
   ]
  },
  {
   "cell_type": "code",
   "execution_count": 169,
   "metadata": {},
   "outputs": [],
   "source": [
    "# create and save flange \n",
    "flange = Pattern(uid='flange', name='flange').save()"
   ]
  },
  {
   "cell_type": "code",
   "execution_count": 173,
   "metadata": {},
   "outputs": [],
   "source": [
    "# connect all flange assembly to flange pattern\n",
    "for node in assy_nodes_s[assy_nodes_s.apply(lambda node: node.orient[2]!=0)]:\n",
    "    node.pattern.connect(flange)"
   ]
  },
  {
   "cell_type": "markdown",
   "metadata": {},
   "source": [
    "### OPERATION NODE"
   ]
  },
  {
   "cell_type": "code",
   "execution_count": null,
   "metadata": {},
   "outputs": [],
   "source": [
    "mars_df[['id','temporary_fastening', 'temporary_drilling']]"
   ]
  },
  {
   "cell_type": "code",
   "execution_count": null,
   "metadata": {},
   "outputs": [],
   "source": []
  }
 ],
 "metadata": {
  "interpreter": {
   "hash": "c9ed314b904907a4c4e53c9fcb6bf4c0c17cbf8e65a4ac8bddd1024b2b151b75"
  },
  "kernelspec": {
   "display_name": "Neo4J Environment",
   "language": "python",
   "name": "neo4j"
  },
  "language_info": {
   "codemirror_mode": {
    "name": "ipython",
    "version": 3
   },
   "file_extension": ".py",
   "mimetype": "text/x-python",
   "name": "python",
   "nbconvert_exporter": "python",
   "pygments_lexer": "ipython3",
   "version": "3.6.13"
  }
 },
 "nbformat": 4,
 "nbformat_minor": 2
}
